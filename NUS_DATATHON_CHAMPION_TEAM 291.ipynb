{
  "cells": [
    {
      "cell_type": "markdown",
      "metadata": {
        "id": "Rht4MU6Rrign"
      },
      "source": [
        "# NUS Datathon Champion Team 291"
      ]
    },
    {
      "cell_type": "markdown",
      "metadata": {
        "id": "dvnVKGNCtjd3"
      },
      "source": [
        "# 1 Loading data\n"
      ]
    },
    {
      "cell_type": "code",
      "execution_count": 34,
      "metadata": {},
      "outputs": [],
      "source": [
        "import pandas as pd\n",
        "df0 = pd.read_csv('catA_train.csv')"
      ]
    },
    {
      "cell_type": "code",
      "execution_count": 41,
      "metadata": {
        "id": "yZOj6c3Vrigs"
      },
      "outputs": [],
      "source": [
        "df0.info()"
      ]
    },
    {
      "cell_type": "code",
      "execution_count": 42,
      "metadata": {
        "id": "QTht1wXyrigs"
      },
      "outputs": [],
      "source": [
        "df0.isna().sum()"
      ]
    },
    {
      "cell_type": "code",
      "execution_count": null,
      "metadata": {},
      "outputs": [],
      "source": [
        "df0 = df0.dropna(subset=[\"LATITUDE\", \"LONGITUDE\", \"Year Found\", \"Employees (Domestic Ultimate Total)\", \"Employees (Global Ultimate Total)\"])\n",
        "\n",
        "#One-Hot Encoding\n",
        "df0 = pd.get_dummies(df0, columns=['Entity Type'], prefix='Entity_Type')\n",
        "df0 = pd.get_dummies(df0, columns=['Ownership Type'], prefix='Ownership_Type')\n",
        "df0 = pd.get_dummies(df0, columns=['Import/Export Status'], prefix='Import_Export_Status')\n",
        "\n",
        "# Dropping unimportant columns\n",
        "df = df0.drop(['Fiscal Year End', 'Square Footage', 'Company Status (Active/Inactive)', 'Employees (Single Site)'], axis=1)"
      ]
    },
    {
      "cell_type": "code",
      "execution_count": null,
      "metadata": {},
      "outputs": [],
      "source": [
        "df.isna().sum()"
      ]
    },
    {
      "cell_type": "code",
      "execution_count": null,
      "metadata": {},
      "outputs": [],
      "source": [
        "sic_code_frequency = df['SIC Code'].value_counts()\n",
        "\n",
        "# Set a threshold for low-frequency SIC Codes\n",
        "threshold = 7  # Adjust this threshold based on your preference\n",
        "\n",
        "# Identify SIC Codes with frequency below the threshold\n",
        "low_frequency_sic_codes = sic_code_frequency[sic_code_frequency < threshold].index\n",
        "\n",
        "# Replace these low-frequency SIC Codes with a common label \"Others\"\n",
        "df['SIC Code'] = df['SIC Code'].replace(low_frequency_sic_codes, 'Others')\n",
        "\n",
        "sic_code_frequency1 = df['SIC Code'].value_counts()\n",
        "\n",
        "# Display the updated DataFrame\n",
        "print(sic_code_frequency1)"
      ]
    },
    {
      "cell_type": "code",
      "execution_count": null,
      "metadata": {},
      "outputs": [],
      "source": [
        "# Convert the entire column to a common data type (string in this case)\n",
        "\n",
        "df['SIC Code'] = df['SIC Code'].astype(str)"
      ]
    },
    {
      "cell_type": "code",
      "execution_count": null,
      "metadata": {},
      "outputs": [],
      "source": []
    },
    {
      "cell_type": "markdown",
      "metadata": {
        "id": "9jRIvPwCvOUG"
      },
      "source": [
        "# 2 EDA\n",
        "\n",
        "We will now proceed to analyze and visualize a subset of our data to gain some rough insight into how inputs in our data are related to our outputs."
      ]
    },
    {
      "cell_type": "code",
      "execution_count": null,
      "metadata": {},
      "outputs": [],
      "source": [
        "# use of a correlation matrix to observe how variables in our dataset may be affected by others\n",
        "numerical_df = df.select_dtypes(include=['float64', 'int64'])\n",
        "\n",
        "# Create a correlation matrix\n",
        "correlation_matrix = numerical_df.corr()\n",
        "\n",
        "# Assuming correlation_matrix is your correlation matrix\n",
        "correlation_df = pd.DataFrame(correlation_matrix)\n",
        "\n",
        "# Print or use the correlation DataFrame as needed\n",
        "correlation_df"
      ]
    },
    {
      "cell_type": "markdown",
      "metadata": {
        "id": "C7mlEybHrigu"
      },
      "source": [
        "### Geospatial Analysis"
      ]
    },
    {
      "cell_type": "code",
      "execution_count": null,
      "metadata": {},
      "outputs": [],
      "source": [
        "# import required libraries\n",
        "import matplotlib.pyplot as plt\n",
        "\n",
        "# we will need this for the color gradient representing how high the domestic sales figure is.\n",
        "from matplotlib.colors import LogNorm\n",
        "import seaborn as sns\n",
        "\n",
        "# read in the ENTIRE dataset and do EDA. confusion matrix, etc\n",
        "# Use LogNorm for more sensitivity to numerical changes\n",
        "norm = LogNorm()\n",
        "\n",
        "# Define a constant color (e.g., blue)\n",
        "constant_color = 'purple'\n",
        "\n",
        "# Define a color palette based on unique industries\n",
        "industry_palette = sns.color_palette('Set1', n_colors=len(df['Industry'].unique()))\n",
        "\n",
        "# Create a dictionary to map Industry to a unique color\n",
        "industry_colors = dict(zip(df['Industry'].unique(), industry_palette))\n",
        "\n",
        "# Scatter plot with varying color by Industry and varying alpha based on Sales values\n",
        "scatter = plt.scatter(df['LONGITUDE'], df['LATITUDE'], c=df['Industry'].map(industry_colors), s=3, alpha=norm(df['Sales (Domestic Ultimate Total USD)']))\n",
        "\n",
        "# Add a legend for Industry\n",
        "legend_labels = df['Industry'].unique()\n",
        "legend_handles = [plt.Line2D([0], [0], marker='o', color='w', label=industry,\n",
        "                              markerfacecolor=industry_colors[industry], markersize=4) for industry in legend_labels]\n",
        "plt.legend(handles=legend_handles, title='Industry', prop={'size': 5}, loc='upper left', bbox_to_anchor=(1, 1))\n",
        "\n",
        "# Set labels and title\n",
        "plt.xlabel('Longitude')\n",
        "plt.ylabel('Latitude')\n",
        "plt.title('Scatter Plot with Varying Color by Industry and Varying Alpha Based on Sales (LogNorm)')\n",
        "\n",
        "# Show the plot\n",
        "plt.show()"
      ]
    },
    {
      "cell_type": "code",
      "execution_count": null,
      "metadata": {},
      "outputs": [],
      "source": [
        "# Use LogNorm for more sensitivity to numerical changes\n",
        "norm = LogNorm()\n",
        "\n",
        "# Define a colormap transitioning from blue to red\n",
        "cmap = 'inferno'\n",
        "\n",
        "# Scatter plot with colors based on Sales values and LogNorm\n",
        "scatter = plt.scatter(df['LONGITUDE'], df['LATITUDE'], c=df['Sales (Domestic Ultimate Total USD)'], cmap=cmap, s=5, norm=norm)\n",
        "\n",
        "# Add a colorbar\n",
        "cbar = plt.colorbar(scatter, label='Sales')\n",
        "\n",
        "# Set labels and title\n",
        "plt.xlabel('Longitude')\n",
        "plt.ylabel('Latitude')\n",
        "plt.title('Scatter Plot with Colors Based on Sales (LogNorm)')\n",
        "\n",
        "# Show the plot\n",
        "plt.show()"
      ]
    },
    {
      "cell_type": "markdown",
      "metadata": {
        "id": "6GGWckJerigu"
      },
      "source": [
        "## 2.2 Feature Selection\n",
        "We will remove features that are of the following:\n",
        "- seemingly irrelevant to affecting the output by domain knowledge;\n",
        "- Low/Zero-variance Factors.\n",
        "\n",
        "We will also filter our dataset to select only the rows of data we are interested in."
      ]
    },
    {
      "cell_type": "code",
      "execution_count": null,
      "metadata": {},
      "outputs": [],
      "source": [
        "# Specify columns to drop\n",
        "columns_to_drop = [\"Global Ultimate Company\", \"Domestic Ultimate Company\", \"Company Description\", \"8-Digit SIC Code\", \"8-Digit SIC Description\", \"AccountID\",\n",
        "                   \"Parent Company\", \"City\", \"Country\", \"Industry\", \"Region\", \"Parent Country\", \"Global Ultimate Country\", \"Company\"]\n",
        "\n",
        "# Drop columns if they exist in the DataFrame\n",
        "df = df.drop(columns=[col for col in columns_to_drop if col in df.columns], errors='ignore')"
      ]
    },
    {
      "cell_type": "code",
      "execution_count": null,
      "metadata": {},
      "outputs": [],
      "source": [
        "# Convert 'Is Domestic Ultimate' to True/False\n",
        "df['Is Domestic Ultimate'] = df['Is Domestic Ultimate'] == 1\n",
        "df['Is Global Ultimate'] = df['Is Global Ultimate'] == 1\n",
        "\n",
        "df.head(2)"
      ]
    },
    {
      "cell_type": "code",
      "execution_count": null,
      "metadata": {},
      "outputs": [],
      "source": [
        "print(df.describe())"
      ]
    },
    {
      "cell_type": "markdown",
      "metadata": {
        "id": "swT1dffirigv"
      },
      "source": [
        "### Data Type Conversion\n",
        "\n",
        "We will need to convert some columns into datatypes that are suitable for analysis. This makes sure that the values in these fields make sense."
      ]
    },
    {
      "cell_type": "code",
      "execution_count": null,
      "metadata": {},
      "outputs": [],
      "source": [
        "df = df.rename(columns={'Employees (Domestic Ultimate Total)': 'Employees_domesticUltimateTotal', 'Employees (Global Ultimate Total)': 'Employees_globalUltimateTotal', 'Sales (Domestic Ultimate Total USD)': 'Sales_domesticUltimateTotalUSD', 'Sales (Global Ultimate Total USD)': 'Sales_globalUltimateTotalUSD', 'SIC Code':'SIC_code', 'Year Found':'year_found'})"
      ]
    },
    {
      "cell_type": "markdown",
      "metadata": {
        "id": "TgNuiSWsrigv"
      },
      "source": [
        "# 3 Model Training and Evaluation\n",
        "\n",
        "## 3.1 Selecting a Model"
      ]
    },
    {
      "cell_type": "code",
      "execution_count": null,
      "metadata": {},
      "outputs": [],
      "source": [
        "# ML Time\n",
        "from sklearn.model_selection import train_test_split, cross_val_score, KFold\n",
        "from sklearn.ensemble import GradientBoostingRegressor\n",
        "\n",
        "# Separate features and target variable\n",
        "X = df.drop('Sales_domesticUltimateTotalUSD', axis=1)\n",
        "y = df['Sales_domesticUltimateTotalUSD']\n",
        "\n",
        "# Split the data into training and test sets\n",
        "X_train, X_test, y_train, y_test = train_test_split(X, df['Sales_domesticUltimateTotalUSD'], test_size=0.2, random_state=42)\n",
        "\n",
        "from sklearn import preprocessing\n",
        "from sklearn.preprocessing import OneHotEncoder\n",
        "le = preprocessing.LabelEncoder()\n",
        "enc = OneHotEncoder(handle_unknown='ignore')\n",
        "\n",
        "X_train2 = enc.fit_transform(X_train)\n",
        "X_test2 = enc.fit_transform(X_test)\n",
        "y_train2 = le.fit_transform(y_train)\n",
        "y_test2 = le.fit_transform(y_test)\n",
        "\n",
        "#y_train3 = y_train2.reshape(-1, 1)\n",
        "\n",
        "# Initialize the GradientBoostingRegressor\n",
        "model = GradientBoostingRegressor(random_state=42)"
      ]
    },
    {
      "cell_type": "markdown",
      "metadata": {
        "id": "YopYx_gQrigv"
      },
      "source": [
        "### Cross-Validation\n",
        "\n",
        "We will also perform a K-fold Cross Validation. This helps us mitigate the risk of overfitting on a specific set of data, by being able to split the data into K number of folds, test on 1 fold and train for the rest for K number of times."
      ]
    },
    {
      "cell_type": "code",
      "execution_count": 61,
      "metadata": {
        "colab": {
          "base_uri": "https://localhost:8080/",
          "height": 472
        },
        "id": "6uA6yh89rigv",
        "outputId": "5b6ae0fc-82cf-4767-afe3-1108b867b137"
      },
      "outputs": [
        {
          "data": {
            "image/png": "[encoded data removed]",
            "text/plain": [
              "<Figure size 640x480 with 1 Axes>"
            ]
          },
          "metadata": {},
          "output_type": "display_data"
        }
      ],
      "source": [
        "# Lists to store results\n",
        "n_folds_values = list(range(4, 16))\n",
        "mean_r2_scores = []\n",
        "std_r2_scores = []\n",
        "\n",
        "from tqdm import tqdm\n",
        "\n",
        "# Iterate over different numbers of folds\n",
        "for n_folds in tqdm(n_folds_values):\n",
        "    # Use k-fold cross-validation with the current number of folds\n",
        "    kf = KFold(n_splits=n_folds, shuffle=True, random_state=42)\n",
        "\n",
        "    # Perform cross-validation and get R-squared scores\n",
        "    cv_scores = cross_val_score(model, X_train2, y_train2, cv=kf, scoring='r2')\n",
        "\n",
        "    # Append mean and standard deviation of R-squared scores to lists\n",
        "    mean_r2_scores.append(cv_scores.mean())\n",
        "    std_r2_scores.append(cv_scores.std())\n",
        "\n",
        "# Plot the results\n",
        "plt.errorbar(n_folds_values, mean_r2_scores, yerr=std_r2_scores, marker='o', linestyle='-', label='R-squared scores')\n",
        "plt.xlabel('Number of Folds')\n",
        "plt.ylabel('R-squared Score')\n",
        "plt.title('Cross-Validated R-squared Scores for Different Numbers of Folds')\n",
        "plt.legend()\n",
        "plt.show()"
      ]
    },
    {
      "cell_type": "markdown",
      "metadata": {
        "id": "d1lqpUN5rigv"
      },
      "source": [
        "## 3.2 Model Evalutation Metrics\n",
        "\n",
        "There are many ways to evaluate a Machine Learning model:\n",
        "\n",
        "- Residual Mean Squared Error (RMSE), Mean Squared Error (MSE), Mean Average Percentage Error (MAPE) for Regression Tasks;\n",
        "- Confusion Matrix, AUC-ROC Curve for Classification Problems;\n",
        "- and other variants of such metrics.\n",
        "\n",
        "In this problem, MSE will be very big as the sales are very large by nature. We will opt to use the R-Squared Score (used to score how well a regression model fits its data)."
      ]
    },
    {
      "cell_type": "code",
      "execution_count": null,
      "metadata": {
        "colab": {
          "base_uri": "https://localhost:8080/"
        },
        "id": "It5RVKf5rigw",
        "outputId": "4e355fb3-14d6-4609-c631-4dc9c628747d"
      },
      "outputs": [],
      "source": [
        "# Use k-fold cross-validation with 10 folds\n",
        "model_10 = GradientBoostingRegressor(random_state=42)\n",
        "kf = KFold(n_splits=10, shuffle=True, random_state=42)\n",
        "\n",
        "# Perform cross-validation and get R-squared scores\n",
        "cv_scores = cross_val_score(model, X_train, y_train, cv=kf, scoring='r2')\n",
        "\n",
        "# Print the R-squared scores for each fold\n",
        "print(\"Cross-Validation R-squared scores:\", cv_scores)\n",
        "\n",
        "# Print the mean and standard deviation of the R-squared scores\n",
        "print(\"Mean R-squared score:\", cv_scores.mean())\n",
        "print(\"Standard Deviation of R-squared scores:\", cv_scores.std())\n",
        "\n",
        "# Train the model on the entire training set\n",
        "model_10.fit(X_train, y_train)\n",
        "\n",
        "# Evaluate the model on the test set\n",
        "test_score = model_10.score(X_test, y_test)\n",
        "print(\"Test R-squared score:\", test_score)"
      ]
    },
    {
      "cell_type": "markdown",
      "metadata": {},
      "source": [
        "# The cell below is NOT to be removed\n",
        "The function is to be amended so that it accepts the given input (dataframe) and returns the required output (list).\n",
        "It is recommended to test the function out prior to submission\n",
        "The hidden_data parsed into the function below will have the same layout columns wise as the dataset SENT to you\n",
        "Thus, ensure that steps taken to modify the initial dataset to fit into the model are also carried out in the function below"
      ]
    },
    {
      "cell_type": "code",
      "execution_count": null,
      "metadata": {},
      "outputs": [],
      "source": [
        "def testing_hidden_data(hidden_data: pd.DataFrame) -> list:\n",
        "    '''DO NOT REMOVE THIS FUNCTION.\n",
        "\n",
        "The function accepts a dataframe as input and return an iterable (list)\n",
        "of binary classes as output.\n",
        "\n",
        "The function should be coded to test on hidden data\n",
        "and should include any preprocessing functions needed for your model to perform. \n",
        "    \n",
        "All relevant code MUST be included in this function.'''\n",
        "\n",
        "    result = [] \n",
        "    return result"
      ]
    },
    {
      "cell_type": "code",
      "execution_count": null,
      "metadata": {},
      "outputs": [],
      "source": [
        "# This cell should output a list of predictions.\n",
        "test_df = pd.read_csv(filepath)\n",
        "test_df = test_df.drop(columns=['Sales (Domestic Ultimate Total USD)'])\n",
        "print(testing_hidden_data(test_df))"
      ]
    }
  ],
  "metadata": {
    "colab": {
      "provenance": []
    },
    "kernelspec": {
      "display_name": "env",
      "language": "python",
      "name": "python3"
    },
    "language_info": {
      "codemirror_mode": {
        "name": "ipython",
        "version": 3
      },
      "file_extension": ".py",
      "mimetype": "text/x-python",
      "name": "python",
      "nbconvert_exporter": "python",
      "pygments_lexer": "ipython3",
      "version": "3.9.16"
    }
  },
  "nbformat": 4,
  "nbformat_minor": 0
}
